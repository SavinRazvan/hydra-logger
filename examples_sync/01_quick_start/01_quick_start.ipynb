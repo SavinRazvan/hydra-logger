{
 "cells": [
  {
   "cell_type": "code",
   "execution_count": 1,
   "id": "3fea4039",
   "metadata": {},
   "outputs": [
    {
     "name": "stdout",
     "output_type": "stream",
     "text": [
      "2025-07-05 22:37:11 - hydra.APP - INFO - logger.py:497 - Application started\n",
      "2025-07-05 22:37:11 - hydra.APP - WARNING - logger.py:497 - Warning message\n",
      "2025-07-05 22:37:11 - hydra.APP - ERROR - logger.py:497 - Error occurred\n"
     ]
    }
   ],
   "source": [
    "# Basic Hydra-Logger Setup\n",
    "import os\n",
    "from hydra_logger import HydraLogger\n",
    "from hydra_logger.config import LoggingConfig, LogLayer, LogDestination\n",
    "\n",
    "# Create logs directory\n",
    "os.makedirs(\"logs\", exist_ok=True)\n",
    "\n",
    "# Basic configuration\n",
    "config = LoggingConfig(\n",
    "    layers={\n",
    "        \"APP\": LogLayer(\n",
    "            level=\"DEBUG\",\n",
    "            destinations=[\n",
    "                LogDestination(type=\"console\", format=\"text\"),\n",
    "                LogDestination(type=\"file\", path=\"logs/app.log\", format=\"text\")\n",
    "            ]\n",
    "        )\n",
    "    }\n",
    ")\n",
    "\n",
    "logger = HydraLogger(config)\n",
    "\n",
    "# Test logging\n",
    "logger.info(\"APP\", \"Application started\")\n",
    "logger.debug(\"APP\", \"Debug information\")\n",
    "logger.warning(\"APP\", \"Warning message\")\n",
    "logger.error(\"APP\", \"Error occurred\")"
   ]
  },
  {
   "cell_type": "code",
   "execution_count": 2,
   "id": "fa238079",
   "metadata": {},
   "outputs": [
    {
     "name": "stdout",
     "output_type": "stream",
     "text": [
      "=== Console Only Mode ===\n",
      "2025-07-05 22:37:11 - hydra.DEV - INFO - logger.py:497 - This only shows in console\n",
      "2025-07-05 22:37:11 - hydra.DEV - WARNING - logger.py:497 - Yellow warning\n",
      "2025-07-05 22:37:11 - hydra.DEV - ERROR - logger.py:497 - Red error message\n"
     ]
    }
   ],
   "source": [
    "# Console Only - Perfect for development\n",
    "config_console = LoggingConfig(\n",
    "    layers={\n",
    "        \"DEV\": LogLayer(\n",
    "            level=\"DEBUG\",\n",
    "            destinations=[\n",
    "                LogDestination(type=\"console\", format=\"text\")\n",
    "            ]\n",
    "        )\n",
    "    }\n",
    ")\n",
    "\n",
    "logger_console = HydraLogger(config_console)\n",
    "\n",
    "print(\"=== Console Only Mode ===\")\n",
    "logger_console.info(\"DEV\", \"This only shows in console\")\n",
    "logger_console.debug(\"DEV\", \"Colored debug message\")\n",
    "logger_console.warning(\"DEV\", \"Yellow warning\")\n",
    "logger_console.error(\"DEV\", \"Red error message\")"
   ]
  },
  {
   "cell_type": "code",
   "execution_count": 3,
   "id": "09f82b01",
   "metadata": {},
   "outputs": [
    {
     "name": "stdout",
     "output_type": "stream",
     "text": [
      "=== Console Only Mode ===\n",
      "2025-07-05 22:37:11 - hydra.DEV - INFO - logger.py:497 - This only shows in console\n",
      "2025-07-05 22:37:11 - hydra.DEV - WARNING - logger.py:497 - Yellow warning\n",
      "2025-07-05 22:37:11 - hydra.DEV - ERROR - logger.py:497 - Red error message\n"
     ]
    }
   ],
   "source": [
    "# Console Only - Perfect for development\n",
    "config_console = LoggingConfig(\n",
    "    layers={\n",
    "        \"DEV\": LogLayer(\n",
    "            level=\"DEBUG\",\n",
    "            destinations=[\n",
    "                LogDestination(type=\"console\", format=\"text\")\n",
    "            ]\n",
    "        )\n",
    "    }\n",
    ")\n",
    "\n",
    "logger_console = HydraLogger(config_console)\n",
    "\n",
    "print(\"=== Console Only Mode ===\")\n",
    "logger_console.info(\"DEV\", \"This only shows in console\")\n",
    "logger_console.debug(\"DEV\", \"Colored debug message\")\n",
    "logger_console.warning(\"DEV\", \"Yellow warning\")\n",
    "logger_console.error(\"DEV\", \"Red error message\")"
   ]
  },
  {
   "cell_type": "code",
   "execution_count": 4,
   "id": "245fbdb4",
   "metadata": {},
   "outputs": [
    {
     "name": "stdout",
     "output_type": "stream",
     "text": [
      "=== File Only Mode ===\n",
      "\n",
      "📄 Production log contents:\n",
      "2025-07-05 22:02:06 - hydra.PROD - INFO - logger.py:497 - This only goes to file\n",
      "2025-07-05 22:02:06 - hydra.PROD - WARNING - logger.py:497 - Production warning\n",
      "2025-07-05 22:02:06 - hydra.PROD - ERROR - logger.py:497 - Production error\n",
      "2025-07-05 22:05:08 - hydra.PROD - INFO - logger.py:497 - This only goes to file\n",
      "2025-07-05 22:05:08 - hydra.PROD - WARNING - logger.py:497 - Production warning\n",
      "2025-07-05 22:05:08 - hydra.PROD - ERROR - logger.py:497 - Production error\n",
      "2025-07-05 22:05:24 - hydra.APP - WARNING - logger.py:497 - Warning message\n",
      "2025-07-05 22:05:24 - hydra.APP - ERROR - logger.py:497 - Error message\n",
      "2025-07-05 22:37:11 - hydra.PROD - INFO - logger.py:497 - This only goes to file\n",
      "2025-07-05 22:37:11 - hydra.PROD - WARNING - logger.py:497 - Production warning\n",
      "2025-07-05 22:37:11 - hydra.PROD - ERROR - logger.py:497 - Production error\n",
      "\n"
     ]
    }
   ],
   "source": [
    "# File Only - Perfect for production\n",
    "config_file = LoggingConfig(\n",
    "    layers={\n",
    "        \"PROD\": LogLayer(\n",
    "            level=\"INFO\",  # No DEBUG in production\n",
    "            destinations=[\n",
    "                LogDestination(type=\"file\", path=\"logs/production.log\", format=\"text\")\n",
    "            ]\n",
    "        )\n",
    "    }\n",
    ")\n",
    "\n",
    "logger_file = HydraLogger(config_file)\n",
    "\n",
    "print(\"=== File Only Mode ===\")\n",
    "logger_file.info(\"PROD\", \"This only goes to file\")\n",
    "logger_file.warning(\"PROD\", \"Production warning\")\n",
    "logger_file.error(\"PROD\", \"Production error\")\n",
    "\n",
    "# Show file contents\n",
    "print(\"\\n📄 Production log contents:\")\n",
    "with open(\"logs/production.log\", \"r\") as f:\n",
    "    print(f.read())"
   ]
  },
  {
   "cell_type": "code",
   "execution_count": 5,
   "id": "f870bda2",
   "metadata": {},
   "outputs": [
    {
     "name": "stdout",
     "output_type": "stream",
     "text": [
      "=== Multiple Layers ===\n",
      "2025-07-05 22:37:11 - hydra.APP - INFO - logger.py:497 - General app info\n"
     ]
    }
   ],
   "source": [
    "# Multiple Layers - Different purposes\n",
    "config_multi = LoggingConfig(\n",
    "    layers={\n",
    "        \"APP\": LogLayer(\n",
    "            level=\"INFO\",\n",
    "            destinations=[\n",
    "                LogDestination(type=\"console\", format=\"text\"),\n",
    "                LogDestination(type=\"file\", path=\"logs/app.log\", format=\"text\")\n",
    "            ]\n",
    "        ),\n",
    "        \"ERROR\": LogLayer(\n",
    "            level=\"ERROR\",\n",
    "            destinations=[\n",
    "                LogDestination(type=\"file\", path=\"logs/errors.log\", format=\"text\")\n",
    "            ]\n",
    "        ),\n",
    "        \"DEBUG\": LogLayer(\n",
    "            level=\"DEBUG\",\n",
    "            destinations=[\n",
    "                LogDestination(type=\"console\", format=\"text\")\n",
    "            ]\n",
    "        )\n",
    "    }\n",
    ")\n",
    "\n",
    "logger_multi = HydraLogger(config_multi)\n",
    "\n",
    "print(\"=== Multiple Layers ===\")\n",
    "logger_multi.info(\"APP\", \"General app info\")\n",
    "logger_multi.error(\"ERROR\", \"This goes to errors.log only\")\n",
    "logger_multi.debug(\"DEBUG\", \"Debug info in console only\")"
   ]
  },
  {
   "cell_type": "code",
   "execution_count": 6,
   "id": "674fac0a",
   "metadata": {},
   "outputs": [
    {
     "name": "stdout",
     "output_type": "stream",
     "text": [
      "=== Custom Colors ===\n",
      "2025-07-05 22:37:11 - hydra.COLOR - INFO - logger.py:497 - Bright green info\n",
      "2025-07-05 22:37:11 - hydra.COLOR - ERROR - logger.py:497 - Bright red error\n"
     ]
    }
   ],
   "source": [
    "# Custom Colors via Environment Variables\n",
    "import os\n",
    "\n",
    "# Set custom colors\n",
    "os.environ[\"HYDRA_LOG_COLOR_INFO\"] = \"bright_green\"\n",
    "os.environ[\"HYDRA_LOG_COLOR_ERROR\"] = \"bright_red\"\n",
    "os.environ[\"HYDRA_LOG_COLOR_DEBUG\"] = \"bright_cyan\"\n",
    "\n",
    "config_colors = LoggingConfig(\n",
    "    layers={\n",
    "        \"COLOR\": LogLayer(\n",
    "            level=\"DEBUG\",\n",
    "            destinations=[\n",
    "                LogDestination(type=\"console\", format=\"text\")\n",
    "            ]\n",
    "        )\n",
    "    }\n",
    ")\n",
    "\n",
    "logger_colors = HydraLogger(config_colors)\n",
    "\n",
    "print(\"=== Custom Colors ===\")\n",
    "logger_colors.debug(\"COLOR\", \"Bright cyan debug\")\n",
    "logger_colors.info(\"COLOR\", \"Bright green info\")\n",
    "logger_colors.error(\"COLOR\", \"Bright red error\")"
   ]
  },
  {
   "cell_type": "code",
   "execution_count": 7,
   "id": "746aee9b",
   "metadata": {},
   "outputs": [
    {
     "name": "stdout",
     "output_type": "stream",
     "text": [
      "=== JSON Format ===\n",
      "{\"timestamp\": \"2025-07-05 22:37:11\", \"level\": \"INFO\", \"logger\": \"hydra.JSON\", \"message\": \"Structured log message\", \"filename\": \"logger.py\", \"lineno\": 497}\n",
      "{\"timestamp\": \"2025-07-05 22:37:11\", \"level\": \"ERROR\", \"logger\": \"hydra.JSON\", \"message\": \"Error with context\", \"filename\": \"logger.py\", \"lineno\": 497}\n",
      "\n",
      "📄 JSON log contents:\n",
      "{\"timestamp\": \"2025-07-05 22:02:06\", \"level\": \"INFO\", \"logger\": \"hydra.JSON\", \"message\": \"Structured log message\", \"filename\": \"logger.py\", \"lineno\": 497}\n",
      "{\"timestamp\": \"2025-07-05 22:02:06\", \"level\": \"ERROR\", \"logger\": \"hydra.JSON\", \"message\": \"Error with context\", \"filename\": \"logger.py\", \"lineno\": 497}\n",
      "{\"timestamp\": \"2025-07-05 22:05:08\", \"level\": \"INFO\", \"logger\": \"hydra.JSON\", \"message\": \"Structured log message\", \"filename\": \"logger.py\", \"lineno\": 497}\n",
      "{\"timestamp\": \"2025-07-05 22:05:08\", \"level\": \"ERROR\", \"logger\": \"hydra.JSON\", \"message\": \"Error with context\", \"filename\": \"logger.py\", \"lineno\": 497}\n",
      "{\"timestamp\": \"2025-07-05 22:37:11\", \"level\": \"INFO\", \"logger\": \"hydra.JSON\", \"message\": \"Structured log message\", \"filename\": \"logger.py\", \"lineno\": 497}\n",
      "{\"timestamp\": \"2025-07-05 22:37:11\", \"level\": \"ERROR\", \"logger\": \"hydra.JSON\", \"message\": \"Error with context\", \"filename\": \"logger.py\", \"lineno\": 497}\n",
      "\n"
     ]
    }
   ],
   "source": [
    "# JSON Format for structured logging\n",
    "config_json = LoggingConfig(\n",
    "    layers={\n",
    "        \"JSON\": LogLayer(\n",
    "            level=\"INFO\",\n",
    "            destinations=[\n",
    "                LogDestination(type=\"console\", format=\"json\"),\n",
    "                LogDestination(type=\"file\", path=\"logs/structured.json\", format=\"json\")\n",
    "            ]\n",
    "        )\n",
    "    }\n",
    ")\n",
    "\n",
    "logger_json = HydraLogger(config_json)\n",
    "\n",
    "print(\"=== JSON Format ===\")\n",
    "logger_json.info(\"JSON\", \"Structured log message\")\n",
    "logger_json.error(\"JSON\", \"Error with context\")\n",
    "\n",
    "# Show JSON file\n",
    "print(\"\\n📄 JSON log contents:\")\n",
    "with open(\"logs/structured.json\", \"r\") as f:\n",
    "    print(f.read())"
   ]
  },
  {
   "cell_type": "code",
   "execution_count": 8,
   "id": "9d46af2a",
   "metadata": {},
   "outputs": [
    {
     "name": "stdout",
     "output_type": "stream",
     "text": [
      "=== File Rotation ===\n",
      "Check logs/rotating.log* files for rotation\n"
     ]
    }
   ],
   "source": [
    "# File Rotation - Automatic log management\n",
    "config_rotation = LoggingConfig(\n",
    "    layers={\n",
    "        \"ROTATE\": LogLayer(\n",
    "            level=\"INFO\",\n",
    "            destinations=[\n",
    "                LogDestination(\n",
    "                    type=\"file\", \n",
    "                    path=\"logs/rotating.log\", \n",
    "                    format=\"text\",\n",
    "                    max_size=\"1KB\",  # Rotate at 1KB\n",
    "                    backup_count=3    # Keep 3 backup files\n",
    "                )\n",
    "            ]\n",
    "        )\n",
    "    }\n",
    ")\n",
    "\n",
    "logger_rotate = HydraLogger(config_rotation)\n",
    "\n",
    "print(\"=== File Rotation ===\")\n",
    "# Generate enough logs to trigger rotation\n",
    "for i in range(50):\n",
    "    logger_rotate.info(\"ROTATE\", f\"Log message {i} - \" + \"x\" * 50)\n",
    "\n",
    "print(\"Check logs/rotating.log* files for rotation\")"
   ]
  },
  {
   "cell_type": "code",
   "execution_count": 9,
   "id": "180f51a8",
   "metadata": {},
   "outputs": [
    {
     "name": "stdout",
     "output_type": "stream",
     "text": [
      "=== Web Application Simulation ===\n",
      "2025-07-05 22:37:11 - hydra.API - INFO - logger.py:497 - GET /api/users/0 - 200 OK\n",
      "2025-07-05 22:37:11 - hydra.API - INFO - logger.py:497 - GET /api/users/1 - 200 OK\n",
      "2025-07-05 22:37:11 - hydra.API - INFO - logger.py:497 - GET /api/users/2 - 200 OK\n",
      "2025-07-05 22:37:11 - hydra.API - INFO - logger.py:497 - GET /api/users/3 - 200 OK\n",
      "2025-07-05 22:37:11 - hydra.API - INFO - logger.py:497 - GET /api/users/4 - 200 OK\n"
     ]
    }
   ],
   "source": [
    "# Real Application - Web API logging\n",
    "import time\n",
    "import random\n",
    "\n",
    "config_web = LoggingConfig(\n",
    "    layers={\n",
    "        \"API\": LogLayer(\n",
    "            level=\"INFO\",\n",
    "            destinations=[\n",
    "                LogDestination(type=\"console\", format=\"text\"),\n",
    "                LogDestination(type=\"file\", path=\"logs/api.log\", format=\"text\")\n",
    "            ]\n",
    "        ),\n",
    "        \"ERROR\": LogLayer(\n",
    "            level=\"ERROR\",\n",
    "            destinations=[\n",
    "                LogDestination(type=\"file\", path=\"logs/errors.log\", format=\"text\")\n",
    "            ]\n",
    "        )\n",
    "    }\n",
    ")\n",
    "\n",
    "logger_web = HydraLogger(config_web)\n",
    "\n",
    "print(\"=== Web Application Simulation ===\")\n",
    "\n",
    "# Simulate API requests\n",
    "for i in range(5):\n",
    "    logger_web.info(\"API\", f\"GET /api/users/{i} - 200 OK\")\n",
    "    time.sleep(0.1)\n",
    "    \n",
    "    if random.random() < 0.3:  # 30% error rate\n",
    "        logger_web.error(\"ERROR\", f\"Database connection failed for user {i}\")"
   ]
  },
  {
   "cell_type": "code",
   "execution_count": 10,
   "id": "165edbe0",
   "metadata": {},
   "outputs": [
    {
     "ename": "TypeError",
     "evalue": "HydraLogger.__init__() got an unexpected keyword argument 'enable_performance_monitoring'",
     "output_type": "error",
     "traceback": [
      "\u001b[31m---------------------------------------------------------------------------\u001b[39m",
      "\u001b[31mTypeError\u001b[39m                                 Traceback (most recent call last)",
      "\u001b[36mCell\u001b[39m\u001b[36m \u001b[39m\u001b[32mIn[10]\u001b[39m\u001b[32m, line 14\u001b[39m\n\u001b[32m      2\u001b[39m config_perf = LoggingConfig(\n\u001b[32m      3\u001b[39m     layers={\n\u001b[32m      4\u001b[39m         \u001b[33m\"\u001b[39m\u001b[33mPERF\u001b[39m\u001b[33m\"\u001b[39m: LogLayer(\n\u001b[32m   (...)\u001b[39m\u001b[32m     10\u001b[39m     }\n\u001b[32m     11\u001b[39m )\n\u001b[32m     13\u001b[39m \u001b[38;5;66;03m# Try with explicit keyword arguments\u001b[39;00m\n\u001b[32m---> \u001b[39m\u001b[32m14\u001b[39m logger_perf = \u001b[43mHydraLogger\u001b[49m\u001b[43m(\u001b[49m\n\u001b[32m     15\u001b[39m \u001b[43m    \u001b[49m\u001b[43mconfig\u001b[49m\u001b[43m=\u001b[49m\u001b[43mconfig_perf\u001b[49m\u001b[43m,\u001b[49m\u001b[43m \u001b[49m\n\u001b[32m     16\u001b[39m \u001b[43m    \u001b[49m\u001b[43menable_performance_monitoring\u001b[49m\u001b[43m=\u001b[49m\u001b[38;5;28;43;01mTrue\u001b[39;49;00m\n\u001b[32m     17\u001b[39m \u001b[43m)\u001b[49m\n\u001b[32m     19\u001b[39m \u001b[38;5;28mprint\u001b[39m(\u001b[33m\"\u001b[39m\u001b[33m=== Performance Monitoring ===\u001b[39m\u001b[33m\"\u001b[39m)\n\u001b[32m     20\u001b[39m \u001b[38;5;28;01mimport\u001b[39;00m\u001b[38;5;250m \u001b[39m\u001b[34;01mtime\u001b[39;00m\n",
      "\u001b[31mTypeError\u001b[39m: HydraLogger.__init__() got an unexpected keyword argument 'enable_performance_monitoring'"
     ]
    }
   ],
   "source": [
    "# Performance Monitoring\n",
    "config_perf = LoggingConfig(\n",
    "    layers={\n",
    "        \"PERF\": LogLayer(\n",
    "            level=\"INFO\",\n",
    "            destinations=[\n",
    "                LogDestination(type=\"console\", format=\"text\")\n",
    "            ]\n",
    "        )\n",
    "    }\n",
    ")\n",
    "\n",
    "# Try with explicit keyword arguments\n",
    "logger_perf = HydraLogger(\n",
    "    config=config_perf, \n",
    "    enable_performance_monitoring=True\n",
    ")\n",
    "\n",
    "print(\"=== Performance Monitoring ===\")\n",
    "import time\n",
    "\n",
    "start = time.time()\n",
    "for i in range(100):\n",
    "    logger_perf.info(\"PERF\", f\"Performance test message {i}\")\n",
    "\n",
    "# Get performance statistics\n",
    "stats = logger_perf.get_performance_statistics()\n",
    "print(f\"\\n📊 Performance Stats:\")\n",
    "if stats is not None:\n",
    "    for key, value in stats.items():\n",
    "        print(f\"  {key}: {value:.4f}\")\n",
    "else:\n",
    "    print(\"  Performance monitoring not available\")"
   ]
  },
  {
   "cell_type": "code",
   "execution_count": null,
   "id": "a6d2b4ca",
   "metadata": {},
   "outputs": [
    {
     "name": "stdout",
     "output_type": "stream",
     "text": [
      "\n",
      "=== DEVELOPMENT Environment ===\n",
      "2025-07-05 22:05:24 - hydra.APP - INFO - logger.py:497 - Info message\n",
      "2025-07-05 22:05:24 - hydra.APP - WARNING - logger.py:497 - Warning message\n",
      "2025-07-05 22:05:24 - hydra.APP - ERROR - logger.py:497 - Error message\n",
      "\n",
      "=== STAGING Environment ===\n",
      "2025-07-05 22:05:24 - hydra.APP - INFO - logger.py:497 - Info message\n",
      "2025-07-05 22:05:24 - hydra.APP - WARNING - logger.py:497 - Warning message\n",
      "2025-07-05 22:05:24 - hydra.APP - ERROR - logger.py:497 - Error message\n",
      "\n",
      "=== PRODUCTION Environment ===\n"
     ]
    }
   ],
   "source": [
    "# Environment-Based Configuration\n",
    "import os\n",
    "\n",
    "# Simulate different environments\n",
    "environments = [\"development\", \"staging\", \"production\"]\n",
    "\n",
    "for env in environments:\n",
    "    print(f\"\\n=== {env.upper()} Environment ===\")\n",
    "    \n",
    "    if env == \"development\":\n",
    "        level = \"DEBUG\"\n",
    "        destinations = [\n",
    "            LogDestination(type=\"console\", format=\"text\"),\n",
    "            LogDestination(type=\"file\", path=f\"logs/{env}.log\", format=\"text\")\n",
    "        ]\n",
    "    elif env == \"staging\":\n",
    "        level = \"INFO\"\n",
    "        destinations = [\n",
    "            LogDestination(type=\"console\", format=\"text\"),\n",
    "            LogDestination(type=\"file\", path=f\"logs/{env}.log\", format=\"text\")\n",
    "        ]\n",
    "    else:  # production\n",
    "        level = \"WARNING\"\n",
    "        destinations = [\n",
    "            LogDestination(type=\"file\", path=f\"logs/{env}.log\", format=\"text\")\n",
    "        ]\n",
    "    \n",
    "    config_env = LoggingConfig(\n",
    "        layers={\n",
    "            \"APP\": LogLayer(\n",
    "                level=level,\n",
    "                destinations=destinations\n",
    "            )\n",
    "        }\n",
    "    )\n",
    "    \n",
    "    logger_env = HydraLogger(config_env)\n",
    "    \n",
    "    logger_env.debug(\"APP\", \"Debug message\")\n",
    "    logger_env.info(\"APP\", \"Info message\")\n",
    "    logger_env.warning(\"APP\", \"Warning message\")\n",
    "    logger_env.error(\"APP\", \"Error message\")"
   ]
  }
 ],
 "metadata": {
  "kernelspec": {
   "display_name": "hydra-logger",
   "language": "python",
   "name": "python3"
  },
  "language_info": {
   "codemirror_mode": {
    "name": "ipython",
    "version": 3
   },
   "file_extension": ".py",
   "mimetype": "text/x-python",
   "name": "python",
   "nbconvert_exporter": "python",
   "pygments_lexer": "ipython3",
   "version": "3.13.5"
  }
 },
 "nbformat": 4,
 "nbformat_minor": 5
}
